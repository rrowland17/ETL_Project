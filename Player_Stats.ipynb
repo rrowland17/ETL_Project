{
 "cells": [
  {
   "cell_type": "code",
   "execution_count": 1,
   "metadata": {},
   "outputs": [],
   "source": [
    "# Dependencies\n",
    "from bs4 import BeautifulSoup \n",
    "import requests\n",
    "import pandas as pd\n",
    "from splinter import Browser\n",
    "from selenium import webdriver\n",
    "import time"
   ]
  },
  {
   "cell_type": "code",
   "execution_count": null,
   "metadata": {},
   "outputs": [],
   "source": []
  },
  {
   "cell_type": "code",
   "execution_count": 2,
   "metadata": {},
   "outputs": [],
   "source": [
    "#set up path for windows\n",
    "executable_path = {'executable_path': 'chromedriver.exe'}\n",
    "browser = Browser('chrome', **executable_path, headless=False)\n",
    "url=\"https://www.espn.com/college-football/teams\"\n",
    "browser.visit(url)\n",
    "html=browser.html\n",
    "soup=BeautifulSoup(html, 'lxml')\n",
    "browser.quit()"
   ]
  },
  {
   "cell_type": "code",
   "execution_count": 3,
   "metadata": {},
   "outputs": [],
   "source": [
    "stat_link=soup.find_all('a', class_=\"AnchorLink\")\n",
    "team={\n",
    "    \"name\":[],\n",
    "    \"url\":[]\n",
    "}\n",
    "name_pars=\"\"\n",
    "\n",
    "\n",
    "for alink in stat_link:\n",
    "    if alink.text==\"Stats\":\n",
    "        length=0\n",
    "        team[\"url\"].append(\"https://www.espn.com\"+alink.get(\"href\"))\n",
    "        name_pars=alink.get(\"href\").split('/')\n",
    "        length=len(name_pars)\n",
    "        length=length-1\n",
    "        team[\"name\"].append(name_pars[length])\n",
    "                \n"
   ]
  },
  {
   "cell_type": "code",
   "execution_count": 4,
   "metadata": {},
   "outputs": [
    {
     "data": {
      "text/html": [
       "<div>\n",
       "<style scoped>\n",
       "    .dataframe tbody tr th:only-of-type {\n",
       "        vertical-align: middle;\n",
       "    }\n",
       "\n",
       "    .dataframe tbody tr th {\n",
       "        vertical-align: top;\n",
       "    }\n",
       "\n",
       "    .dataframe thead th {\n",
       "        text-align: right;\n",
       "    }\n",
       "</style>\n",
       "<table border=\"1\" class=\"dataframe\">\n",
       "  <thead>\n",
       "    <tr style=\"text-align: right;\">\n",
       "      <th></th>\n",
       "      <th>name</th>\n",
       "      <th>url</th>\n",
       "    </tr>\n",
       "  </thead>\n",
       "  <tbody>\n",
       "    <tr>\n",
       "      <th>1</th>\n",
       "      <td>cincinnati-bearcats</td>\n",
       "      <td>https://www.espn.com/college-football/team/sta...</td>\n",
       "    </tr>\n",
       "    <tr>\n",
       "      <th>2</th>\n",
       "      <td>east-carolina-pirates</td>\n",
       "      <td>https://www.espn.com/college-football/team/sta...</td>\n",
       "    </tr>\n",
       "    <tr>\n",
       "      <th>3</th>\n",
       "      <td>houston-cougars</td>\n",
       "      <td>https://www.espn.com/college-football/team/sta...</td>\n",
       "    </tr>\n",
       "    <tr>\n",
       "      <th>4</th>\n",
       "      <td>memphis-tigers</td>\n",
       "      <td>https://www.espn.com/college-football/team/sta...</td>\n",
       "    </tr>\n",
       "    <tr>\n",
       "      <th>5</th>\n",
       "      <td>navy-midshipmen</td>\n",
       "      <td>https://www.espn.com/college-football/team/sta...</td>\n",
       "    </tr>\n",
       "  </tbody>\n",
       "</table>\n",
       "</div>"
      ],
      "text/plain": [
       "                    name                                                url\n",
       "1    cincinnati-bearcats  https://www.espn.com/college-football/team/sta...\n",
       "2  east-carolina-pirates  https://www.espn.com/college-football/team/sta...\n",
       "3        houston-cougars  https://www.espn.com/college-football/team/sta...\n",
       "4         memphis-tigers  https://www.espn.com/college-football/team/sta...\n",
       "5        navy-midshipmen  https://www.espn.com/college-football/team/sta..."
      ]
     },
     "execution_count": 4,
     "metadata": {},
     "output_type": "execute_result"
    }
   ],
   "source": [
    "df=pd.DataFrame(team)\n",
    "df=df[df.name != 'stats']\n",
    "df.head()"
   ]
  },
  {
   "cell_type": "code",
   "execution_count": 5,
   "metadata": {},
   "outputs": [],
   "source": [
    "def get_stat_tables(url):\n",
    "    executable_path = {'executable_path': 'chromedriver.exe'}\n",
    "    browser = Browser('chrome', **executable_path, headless=False)\n",
    "\n",
    "    browser.visit(url)\n",
    "    html=browser.html\n",
    "    browser.quit()\n",
    "    return(pd.read_html(html))\n",
    "    "
   ]
  },
  {
   "cell_type": "code",
   "execution_count": 6,
   "metadata": {},
   "outputs": [],
   "source": [
    "df[\"soap\"] = df[\"url\"].map(get_stat_tables)"
   ]
  },
  {
   "cell_type": "code",
   "execution_count": 7,
   "metadata": {},
   "outputs": [],
   "source": [
    "def stats_table_merge(stats_tables):\n",
    "    passing=pd.merge(stats_tables[0], stats_tables[1],  left_index=True, right_index=True)\n",
    "    rushing=pd.merge(stats_tables[2], stats_tables[3],  left_index=True, right_index=True)\n",
    "    receiving=pd.merge(stats_tables[4], stats_tables[5],  left_index=True, right_index=True)\n",
    "    team_data={ \"passing\":passing.to_json(),\n",
    "        \"rushing\":rushing.to_json(),\n",
    "        \"receiving\":receiving.to_json()\n",
    "         }\n",
    "    return(team_data)"
   ]
  },
  {
   "cell_type": "code",
   "execution_count": 8,
   "metadata": {},
   "outputs": [],
   "source": [
    "df[\"stats_tables\"]=df[\"soap\"].map(stats_table_merge)"
   ]
  },
  {
   "cell_type": "code",
   "execution_count": 9,
   "metadata": {},
   "outputs": [],
   "source": [
    "newdf=df[{\"name\", \"stats_tables\"}]\n",
    "newdf.set_index(\"name\", inplace=True)\n"
   ]
  },
  {
   "cell_type": "code",
   "execution_count": 11,
   "metadata": {},
   "outputs": [
    {
     "data": {
      "text/html": [
       "<div>\n",
       "<style scoped>\n",
       "    .dataframe tbody tr th:only-of-type {\n",
       "        vertical-align: middle;\n",
       "    }\n",
       "\n",
       "    .dataframe tbody tr th {\n",
       "        vertical-align: top;\n",
       "    }\n",
       "\n",
       "    .dataframe thead th {\n",
       "        text-align: right;\n",
       "    }\n",
       "</style>\n",
       "<table border=\"1\" class=\"dataframe\">\n",
       "  <thead>\n",
       "    <tr style=\"text-align: right;\">\n",
       "      <th></th>\n",
       "      <th>stats_tables</th>\n",
       "    </tr>\n",
       "    <tr>\n",
       "      <th>name</th>\n",
       "      <th></th>\n",
       "    </tr>\n",
       "  </thead>\n",
       "  <tbody>\n",
       "    <tr>\n",
       "      <th>cincinnati-bearcats</th>\n",
       "      <td>{'passing': '{\"Name\":{\"0\":\"Desmond Ridder QB\",...</td>\n",
       "    </tr>\n",
       "    <tr>\n",
       "      <th>east-carolina-pirates</th>\n",
       "      <td>{'passing': '{\"Name\":{\"0\":\"Holton Ahlers QB\",\"...</td>\n",
       "    </tr>\n",
       "    <tr>\n",
       "      <th>houston-cougars</th>\n",
       "      <td>{'passing': '{\"Name\":{\"0\":\"D'Eriq King QB\",\"1\"...</td>\n",
       "    </tr>\n",
       "    <tr>\n",
       "      <th>memphis-tigers</th>\n",
       "      <td>{'passing': '{\"Name\":{\"0\":\"Brady White QB\",\"1\"...</td>\n",
       "    </tr>\n",
       "    <tr>\n",
       "      <th>navy-midshipmen</th>\n",
       "      <td>{'passing': '{\"Name\":{\"0\":\"Malcolm Perry QB\",\"...</td>\n",
       "    </tr>\n",
       "  </tbody>\n",
       "</table>\n",
       "</div>"
      ],
      "text/plain": [
       "                                                            stats_tables\n",
       "name                                                                    \n",
       "cincinnati-bearcats    {'passing': '{\"Name\":{\"0\":\"Desmond Ridder QB\",...\n",
       "east-carolina-pirates  {'passing': '{\"Name\":{\"0\":\"Holton Ahlers QB\",\"...\n",
       "houston-cougars        {'passing': '{\"Name\":{\"0\":\"D'Eriq King QB\",\"1\"...\n",
       "memphis-tigers         {'passing': '{\"Name\":{\"0\":\"Brady White QB\",\"1\"...\n",
       "navy-midshipmen        {'passing': '{\"Name\":{\"0\":\"Malcolm Perry QB\",\"..."
      ]
     },
     "execution_count": 11,
     "metadata": {},
     "output_type": "execute_result"
    }
   ],
   "source": []
  },
  {
   "cell_type": "code",
   "execution_count": 10,
   "metadata": {},
   "outputs": [
    {
     "name": "stderr",
     "output_type": "stream",
     "text": [
      "C:\\Users\\kevin\\Anaconda\\Anaconda3\\lib\\site-packages\\ipykernel_launcher.py:9: DeprecationWarning: insert is deprecated. Use insert_one or insert_many instead.\n",
      "  if __name__ == '__main__':\n"
     ]
    },
    {
     "data": {
      "text/plain": [
       "[ObjectId('5da7a2688d050381d8ead922')]"
      ]
     },
     "execution_count": 10,
     "metadata": {},
     "output_type": "execute_result"
    }
   ],
   "source": [
    "import pymongo\n",
    "import json\n",
    "conn = 'mongodb://localhost:27017'\n",
    "client = pymongo.MongoClient(conn)\n",
    "db = client.ncaa_football_stats\n",
    "collection = db.players\n",
    "\n",
    "records = json.loads(newdf.to_json()).values()\n",
    "collection.insert(records)"
   ]
  },
  {
   "cell_type": "code",
   "execution_count": null,
   "metadata": {},
   "outputs": [],
   "source": [
    "\n"
   ]
  }
 ],
 "metadata": {
  "kernelspec": {
   "display_name": "Python 3",
   "language": "python",
   "name": "python3"
  },
  "language_info": {
   "codemirror_mode": {
    "name": "ipython",
    "version": 3
   },
   "file_extension": ".py",
   "mimetype": "text/x-python",
   "name": "python",
   "nbconvert_exporter": "python",
   "pygments_lexer": "ipython3",
   "version": "3.7.3"
  }
 },
 "nbformat": 4,
 "nbformat_minor": 2
}
